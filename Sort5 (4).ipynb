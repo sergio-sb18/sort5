{
 "cells": [
  {
   "cell_type": "markdown",
   "metadata": {},
   "source": [
    "$$\\mathbf{SORT{5}}\t$$\n",
    "$$UNA$$\n",
    "$$\\mathbf{EIF203 I-2018}$$\n",
    "\n"
   ]
  },
  {
   "cell_type": "markdown",
   "metadata": {},
   "source": [
    "$$ Sort_{5}\\ominus(n^2):$$"
   ]
  },
  {
   "cell_type": "markdown",
   "metadata": {},
   "source": [
    "$$\\text{Metodo de sort5}$$"
   ]
  },
  {
   "cell_type": "code",
   "execution_count": 146,
   "metadata": {},
   "outputs": [],
   "source": [
    "def sort5(a):\n",
    "    t = 0\n",
    "    for x in range (1, len(a)):\n",
    "        for y in range(0,len(a)):\n",
    "             if a[x]<a[y]:\n",
    "                t = a[x]\n",
    "                a[x]= a[y]\n",
    "                a[y]= t\n",
    "    return a"
   ]
  },
  {
   "cell_type": "markdown",
   "metadata": {},
   "source": [
    "$$\\text{Creando clase de objetos persona para ordenar por su salario}$$"
   ]
  },
  {
   "cell_type": "code",
   "execution_count": 147,
   "metadata": {},
   "outputs": [],
   "source": [
    "class Persona:\n",
    "    \n",
    "    def __init__(self,nombre, edad, salario):\n",
    "        self.edad = edad\n",
    "        self.nombre = nombre\n",
    "        self.salario= salario\n",
    "\n",
    "    def __eq__(self, any):\n",
    "        if self is any: return True\n",
    "        if not isinstance(any, Persona): return False\n",
    "        return self.edad == any.edad and self.salario == any.salario and self.nombre==any.nombre \n",
    "   \n",
    "    \n",
    "    def __lt__(self, any):\n",
    "        if self is any: return False\n",
    "        if not isinstance(any, Persona): return False\n",
    "        return self.salario < any.salario\n",
    "    \n",
    "           \n",
    "    def __str__(self):\n",
    "        return \"nombre = {}, edad = {}, salario = {}\".format(self.nombre, self.edad, self.salario)\n",
    "   \n",
    "    def __repr__(self):\n",
    "        return \"Persona({}, {}, {})\".format(self.nombre, self.edad, self.salario)\n",
    "    "
   ]
  },
  {
   "cell_type": "code",
   "execution_count": 148,
   "metadata": {},
   "outputs": [],
   "source": [
    "p1 = Persona(\"jorge\", 20, 50000) \n",
    "p2 = Persona(\"maria\", 25, 60000)\n",
    "p3 = Persona(\"juan\", 24, 70000)\n",
    "p4 = Persona(\"ana\", 30, 80000)\n",
    "p5 = Persona(\"luis\", 31, 100000)"
   ]
  },
  {
   "cell_type": "code",
   "execution_count": 149,
   "metadata": {},
   "outputs": [],
   "source": [
    "ap= [p5,p2,p3,p1,p4]"
   ]
  },
  {
   "cell_type": "markdown",
   "metadata": {},
   "source": [
    "$$\\text{Ordenando lista de objetos Persona por su salario}$$"
   ]
  },
  {
   "cell_type": "code",
   "execution_count": 150,
   "metadata": {},
   "outputs": [
    {
     "data": {
      "text/plain": [
       "[Persona(jorge, 20, 50000),\n",
       " Persona(maria, 25, 60000),\n",
       " Persona(juan, 24, 70000),\n",
       " Persona(ana, 30, 80000),\n",
       " Persona(luis, 31, 100000)]"
      ]
     },
     "execution_count": 150,
     "metadata": {},
     "output_type": "execute_result"
    }
   ],
   "source": [
    "sort5(ap)"
   ]
  },
  {
   "cell_type": "markdown",
   "metadata": {},
   "source": [
    "$$\\text{Ordenando lista de objetos}$$\n"
   ]
  },
  {
   "cell_type": "code",
   "execution_count": 151,
   "metadata": {},
   "outputs": [],
   "source": [
    "a=[9,5,2,6,1] "
   ]
  },
  {
   "cell_type": "code",
   "execution_count": 152,
   "metadata": {
    "scrolled": true
   },
   "outputs": [
    {
     "data": {
      "text/plain": [
       "[1, 2, 5, 6, 9]"
      ]
     },
     "execution_count": 152,
     "metadata": {},
     "output_type": "execute_result"
    }
   ],
   "source": [
    "sort5(a)"
   ]
  },
  {
   "cell_type": "markdown",
   "metadata": {},
   "source": [
    "<img src=\"files/sort5/grafica.png\">"
   ]
  },
  {
   "cell_type": "code",
   "execution_count": 153,
   "metadata": {
    "scrolled": false
   },
   "outputs": [
    {
     "data": {
      "text/plain": [
       "<matplotlib.axes._subplots.AxesSubplot at 0x20a4cfb0400>"
      ]
     },
     "execution_count": 153,
     "metadata": {},
     "output_type": "execute_result"
    },
    {
     "data": {
      "image/png": "[encoded data removed]",
      "text/plain": [
       "<matplotlib.figure.Figure at 0x20a4d062438>"
      ]
     },
     "metadata": {},
     "output_type": "display_data"
    }
   ],
   "source": [
    "%matplotlib inline\n",
    "df.plot(x=\"n\", y=\"time\", label=\"time(n)\")\n"
   ]
  },
  {
   "cell_type": "code",
   "execution_count": 154,
   "metadata": {
    "scrolled": true
   },
   "outputs": [
    {
     "data": {
      "text/html": [
       "<div>\n",
       "<style scoped>\n",
       "    .dataframe tbody tr th:only-of-type {\n",
       "        vertical-align: middle;\n",
       "    }\n",
       "\n",
       "    .dataframe tbody tr th {\n",
       "        vertical-align: top;\n",
       "    }\n",
       "\n",
       "    .dataframe thead th {\n",
       "        text-align: right;\n",
       "    }\n",
       "</style>\n",
       "<table border=\"1\" class=\"dataframe\">\n",
       "  <thead>\n",
       "    <tr style=\"text-align: right;\">\n",
       "      <th></th>\n",
       "      <th>i</th>\n",
       "      <th>n</th>\n",
       "      <th>time</th>\n",
       "    </tr>\n",
       "  </thead>\n",
       "  <tbody>\n",
       "    <tr>\n",
       "      <th>0</th>\n",
       "      <td>0</td>\n",
       "      <td>2</td>\n",
       "      <td>0.000650</td>\n",
       "    </tr>\n",
       "    <tr>\n",
       "      <th>1</th>\n",
       "      <td>1</td>\n",
       "      <td>52</td>\n",
       "      <td>0.150202</td>\n",
       "    </tr>\n",
       "    <tr>\n",
       "      <th>2</th>\n",
       "      <td>2</td>\n",
       "      <td>102</td>\n",
       "      <td>0.530370</td>\n",
       "    </tr>\n",
       "    <tr>\n",
       "      <th>3</th>\n",
       "      <td>3</td>\n",
       "      <td>152</td>\n",
       "      <td>1.144483</td>\n",
       "    </tr>\n",
       "    <tr>\n",
       "      <th>4</th>\n",
       "      <td>4</td>\n",
       "      <td>202</td>\n",
       "      <td>2.054955</td>\n",
       "    </tr>\n",
       "    <tr>\n",
       "      <th>5</th>\n",
       "      <td>5</td>\n",
       "      <td>252</td>\n",
       "      <td>3.211804</td>\n",
       "    </tr>\n",
       "    <tr>\n",
       "      <th>6</th>\n",
       "      <td>6</td>\n",
       "      <td>302</td>\n",
       "      <td>4.079417</td>\n",
       "    </tr>\n",
       "    <tr>\n",
       "      <th>7</th>\n",
       "      <td>7</td>\n",
       "      <td>352</td>\n",
       "      <td>5.667787</td>\n",
       "    </tr>\n",
       "    <tr>\n",
       "      <th>8</th>\n",
       "      <td>8</td>\n",
       "      <td>402</td>\n",
       "      <td>7.295600</td>\n",
       "    </tr>\n",
       "    <tr>\n",
       "      <th>9</th>\n",
       "      <td>9</td>\n",
       "      <td>452</td>\n",
       "      <td>9.424708</td>\n",
       "    </tr>\n",
       "  </tbody>\n",
       "</table>\n",
       "</div>"
      ],
      "text/plain": [
       "   i    n      time\n",
       "0  0    2  0.000650\n",
       "1  1   52  0.150202\n",
       "2  2  102  0.530370\n",
       "3  3  152  1.144483\n",
       "4  4  202  2.054955\n",
       "5  5  252  3.211804\n",
       "6  6  302  4.079417\n",
       "7  7  352  5.667787\n",
       "8  8  402  7.295600\n",
       "9  9  452  9.424708"
      ]
     },
     "execution_count": 154,
     "metadata": {},
     "output_type": "execute_result"
    }
   ],
   "source": [
    "import pandas as pd\n",
    "import numpy as np\n",
    "df = pd.read_csv('sort5/data/sort5.csv', sep=\";\")\n",
    "df"
   ]
  },
  {
   "cell_type": "markdown",
   "metadata": {},
   "source": [
    "$$\\text{Analisis de sort5}$$"
   ]
  },
  {
   "cell_type": "markdown",
   "metadata": {},
   "source": [
    "####   1)- Tamaño de datos del sort5"
   ]
  },
  {
   "cell_type": "markdown",
   "metadata": {},
   "source": [
    "\n",
    "$$\\text{ N = len(a) }$$"
   ]
  },
  {
   "cell_type": "markdown",
   "metadata": {},
   "source": [
    "#### 2)- Operaciones de interés del sort5"
   ]
  },
  {
   "cell_type": "markdown",
   "metadata": {},
   "source": [
    "\n",
    "$$\\text{= , < , call }$$\n",
    "$$C_{max}(=, < , call, return)$$\n",
    "$$C = C_{max}()$$"
   ]
  },
  {
   "cell_type": "markdown",
   "metadata": {},
   "source": [
    "#### 3)- Relaciones de recurrencia (RR)"
   ]
  },
  {
   "cell_type": "markdown",
   "metadata": {},
   "source": [
    "$$T_{quickSort}(n):$$"
   ]
  },
  {
   "cell_type": "markdown",
   "metadata": {},
   "source": [
    "$$\\blacktriangleright  \\text{C*[(n-1)+ (n-2)+ (n-3)+...+(n-k)]}$$\n",
    "$$     $$"
   ]
  },
  {
   "cell_type": "markdown",
   "metadata": {},
   "source": [
    "$$\\blacktriangleright   C*\\displaystyle\\sum_{i=1}^{N-1} = C*\\left( \\displaystyle\\frac{n(n-1)}{2} \\right) $$\n",
    "$$     $$"
   ]
  },
  {
   "cell_type": "markdown",
   "metadata": {},
   "source": [
    "$$\\blacktriangleright   C * \\left( \\displaystyle\\frac{n^2 - n}{2} \\right) $$\n",
    "$$     $$"
   ]
  },
  {
   "cell_type": "markdown",
   "metadata": {},
   "source": [
    "$$\\blacktriangleright  \\left( \\displaystyle\\frac{C * n^2}{2} \\right)  -  \\left( \\displaystyle\\frac{C * n }{2} \\right)  $$\n",
    "$$     $$"
   ]
  },
  {
   "cell_type": "markdown",
   "metadata": {},
   "source": [
    "$$\\blacktriangleright \\ominus(n^2)$$"
   ]
  },
  {
   "cell_type": "markdown",
   "metadata": {},
   "source": [
    "#### 4)- Conclusion"
   ]
  },
  {
   "cell_type": "markdown",
   "metadata": {},
   "source": [
    "$$\\blacktriangleright \\because \\text{ Se concluye que sort5 es }  \\ominus(n^2)$$"
   ]
  }
 ],
 "metadata": {
  "kernelspec": {
   "display_name": "Python 3",
   "language": "python",
   "name": "python3"
  },
  "language_info": {
   "codemirror_mode": {
    "name": "ipython",
    "version": 3
   },
   "file_extension": ".py",
   "mimetype": "text/x-python",
   "name": "python",
   "nbconvert_exporter": "python",
   "pygments_lexer": "ipython3",
   "version": "3.6.4"
  }
 },
 "nbformat": 4,
 "nbformat_minor": 2
}
